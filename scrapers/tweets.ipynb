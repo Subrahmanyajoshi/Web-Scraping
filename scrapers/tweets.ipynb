{
 "cells": [
  {
   "cell_type": "code",
   "execution_count": 26,
   "id": "da203034",
   "metadata": {},
   "outputs": [],
   "source": [
    "# reference: https://betterprogramming.pub/how-to-scrape-tweets-with-snscrape-90124ed006af"
   ]
  },
  {
   "cell_type": "code",
   "execution_count": 27,
   "id": "45eac807",
   "metadata": {},
   "outputs": [],
   "source": [
    "# ! pip install snscrape"
   ]
  },
  {
   "cell_type": "code",
   "execution_count": 28,
   "id": "c48f4f38",
   "metadata": {},
   "outputs": [],
   "source": [
    "import snscrape.modules.twitter as sntwitter\n",
    "import pandas as pd"
   ]
  },
  {
   "cell_type": "code",
   "execution_count": 29,
   "id": "ec317648",
   "metadata": {
    "scrolled": false
   },
   "outputs": [],
   "source": [
    "keyword = 'Selena Gomez'\n",
    "tweets_list = []"
   ]
  },
  {
   "cell_type": "code",
   "execution_count": 30,
   "id": "ef75880a",
   "metadata": {
    "scrolled": false
   },
   "outputs": [],
   "source": [
    "# Using TwitterSearchScraper to scrape data and append tweets to list\n",
    "for i,tweet in enumerate(sntwitter.TwitterSearchScraper(keyword).get_items()):\n",
    "    if i>100:\n",
    "        break\n",
    "    tweets_list.append([tweet.date, tweet.id, tweet.user.username, tweet.content])"
   ]
  },
  {
   "cell_type": "code",
   "execution_count": 31,
   "id": "6dcb9101",
   "metadata": {},
   "outputs": [],
   "source": [
    "# Creating a dataframe from the tweets list above\n",
    "tweets_df = pd.DataFrame(tweets_list, columns=['Datetime', 'Tweet Id', 'Username', 'Text'])"
   ]
  },
  {
   "cell_type": "code",
   "execution_count": 32,
   "id": "5c19a433",
   "metadata": {},
   "outputs": [
    {
     "data": {
      "text/html": [
       "<div>\n",
       "<style scoped>\n",
       "    .dataframe tbody tr th:only-of-type {\n",
       "        vertical-align: middle;\n",
       "    }\n",
       "\n",
       "    .dataframe tbody tr th {\n",
       "        vertical-align: top;\n",
       "    }\n",
       "\n",
       "    .dataframe thead th {\n",
       "        text-align: right;\n",
       "    }\n",
       "</style>\n",
       "<table border=\"1\" class=\"dataframe\">\n",
       "  <thead>\n",
       "    <tr style=\"text-align: right;\">\n",
       "      <th></th>\n",
       "      <th>Datetime</th>\n",
       "      <th>Tweet Id</th>\n",
       "      <th>Username</th>\n",
       "      <th>Text</th>\n",
       "    </tr>\n",
       "  </thead>\n",
       "  <tbody>\n",
       "    <tr>\n",
       "      <th>0</th>\n",
       "      <td>2022-05-08 15:43:23+00:00</td>\n",
       "      <td>1523327712139563009</td>\n",
       "      <td>yoryomajor</td>\n",
       "      <td>Yo solo quiero decir \\nFelíz día Selena Gomez,...</td>\n",
       "    </tr>\n",
       "    <tr>\n",
       "      <th>1</th>\n",
       "      <td>2022-05-08 15:43:23+00:00</td>\n",
       "      <td>1523327711460134913</td>\n",
       "      <td>ColeMarmaduke</td>\n",
       "      <td>@selenagomez  I hope you and your mother have ...</td>\n",
       "    </tr>\n",
       "    <tr>\n",
       "      <th>2</th>\n",
       "      <td>2022-05-08 15:41:59+00:00</td>\n",
       "      <td>1523327359620845569</td>\n",
       "      <td>seIsduv</td>\n",
       "      <td>@badgalselIy @selenagomez pls-</td>\n",
       "    </tr>\n",
       "    <tr>\n",
       "      <th>3</th>\n",
       "      <td>2022-05-08 15:41:08+00:00</td>\n",
       "      <td>1523327146671833089</td>\n",
       "      <td>selgcamcfanboy</td>\n",
       "      <td>HAPPY MOTHERS DAY SELENA GOMEZ https://t.co/A5...</td>\n",
       "    </tr>\n",
       "    <tr>\n",
       "      <th>4</th>\n",
       "      <td>2022-05-08 15:41:03+00:00</td>\n",
       "      <td>1523327125901615106</td>\n",
       "      <td>seIsduv</td>\n",
       "      <td>@theselisa @selenagomez we lost</td>\n",
       "    </tr>\n",
       "  </tbody>\n",
       "</table>\n",
       "</div>"
      ],
      "text/plain": [
       "                   Datetime             Tweet Id        Username  \\\n",
       "0 2022-05-08 15:43:23+00:00  1523327712139563009      yoryomajor   \n",
       "1 2022-05-08 15:43:23+00:00  1523327711460134913   ColeMarmaduke   \n",
       "2 2022-05-08 15:41:59+00:00  1523327359620845569         seIsduv   \n",
       "3 2022-05-08 15:41:08+00:00  1523327146671833089  selgcamcfanboy   \n",
       "4 2022-05-08 15:41:03+00:00  1523327125901615106         seIsduv   \n",
       "\n",
       "                                                Text  \n",
       "0  Yo solo quiero decir \\nFelíz día Selena Gomez,...  \n",
       "1  @selenagomez  I hope you and your mother have ...  \n",
       "2                     @badgalselIy @selenagomez pls-  \n",
       "3  HAPPY MOTHERS DAY SELENA GOMEZ https://t.co/A5...  \n",
       "4                    @theselisa @selenagomez we lost  "
      ]
     },
     "execution_count": 32,
     "metadata": {},
     "output_type": "execute_result"
    }
   ],
   "source": [
    "tweets_df.head()"
   ]
  },
  {
   "cell_type": "code",
   "execution_count": null,
   "id": "8ff3076a",
   "metadata": {},
   "outputs": [],
   "source": []
  }
 ],
 "metadata": {
  "kernelspec": {
   "display_name": "Python 3",
   "language": "python",
   "name": "python3"
  },
  "language_info": {
   "codemirror_mode": {
    "name": "ipython",
    "version": 3
   },
   "file_extension": ".py",
   "mimetype": "text/x-python",
   "name": "python",
   "nbconvert_exporter": "python",
   "pygments_lexer": "ipython3",
   "version": "3.8.8"
  }
 },
 "nbformat": 4,
 "nbformat_minor": 5
}
