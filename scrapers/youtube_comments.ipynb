{
 "cells": [
  {
   "cell_type": "code",
   "execution_count": 1,
   "id": "704c3033",
   "metadata": {},
   "outputs": [],
   "source": [
    "import os\n",
    "\n",
    "from googleapiclient.discovery import build"
   ]
  },
  {
   "cell_type": "code",
   "execution_count": 2,
   "id": "d2a5ca84",
   "metadata": {},
   "outputs": [],
   "source": [
    "# Arguments that need to passed to the build function\n",
    "# API Key needs to be created in Google Cloud Console.- https://console.cloud.google.com/apis/api/youtube.googleapis.com/metrics\n",
    "DEVELOPER_KEY = ''\n",
    "YOUTUBE_API_SERVICE_NAME = \"youtube\"\n",
    "YOUTUBE_API_VERSION = \"v3\"\n",
    "   \n",
    "# creating Youtube Resource Object\n",
    "youtube_object = build(YOUTUBE_API_SERVICE_NAME, YOUTUBE_API_VERSION,\n",
    "                                        developerKey = DEVELOPER_KEY)"
   ]
  },
  {
   "cell_type": "code",
   "execution_count": 3,
   "id": "c8e181aa",
   "metadata": {},
   "outputs": [],
   "source": [
    "# Enter search keyword\n",
    "keyword = \"Naruto\""
   ]
  },
  {
   "cell_type": "code",
   "execution_count": 7,
   "id": "6eb0802e",
   "metadata": {},
   "outputs": [],
   "source": [
    "# Search \n",
    "search_keyword = youtube_object.search().list(q = keyword, part = \"id, snippet\",\n",
    "                                               maxResults = 100).execute()\n",
    "results = search_keyword.get(\"items\", [])"
   ]
  },
  {
   "cell_type": "markdown",
   "id": "409a2007",
   "metadata": {},
   "source": [
    "### Extract information about videos, playlists, channels"
   ]
  },
  {
   "cell_type": "code",
   "execution_count": 8,
   "id": "deb1fe89",
   "metadata": {},
   "outputs": [],
   "source": [
    "videos = []\n",
    "playlists = []\n",
    "channels = []\n",
    "\n",
    "for result in results:\n",
    "    # videos\n",
    "    if result['id']['kind'] == \"youtube#video\":\n",
    "        videos.append({'title': result[\"snippet\"][\"title\"],\n",
    "                       'id': result[\"id\"][\"videoId\"],\n",
    "                       'decription': result['snippet']['description'],\n",
    "                       'url': result['snippet']['thumbnails']['default']['url']})\n",
    "\n",
    "    # playlists\n",
    "    elif result['id']['kind'] == \"youtube#playlist\":\n",
    "        playlists.append({'title': result[\"snippet\"][\"title\"],\n",
    "                          'id': result[\"id\"][\"playlistId\"],\n",
    "                          'decription': result['snippet']['description'],\n",
    "                          'url': result['snippet']['thumbnails']['default']['url']})\n",
    "\n",
    "    # channels\n",
    "    elif result['id']['kind'] == \"youtube#channel\":\n",
    "        channels.append({'title': result[\"snippet\"][\"title\"],\n",
    "                         'id': result[\"id\"][\"channelId\"],\n",
    "                         'decription': result['snippet']['description'],\n",
    "                         'url': result['snippet']['thumbnails']['default']['url']})"
   ]
  },
  {
   "cell_type": "code",
   "execution_count": 9,
   "id": "b3ae7186",
   "metadata": {
    "scrolled": true
   },
   "outputs": [
    {
     "name": "stdout",
     "output_type": "stream",
     "text": [
      "Videos: 50\n",
      "Playlists: 0\n",
      "Channels: 0\n"
     ]
    }
   ],
   "source": [
    "print(f\"Videos: {len(videos)}\\nPlaylists: {len(playlists)}\\nChannels: {len(channels)}\")"
   ]
  },
  {
   "cell_type": "markdown",
   "id": "aee1f3db",
   "metadata": {},
   "source": [
    "### Extract Comments and replies from videos"
   ]
  },
  {
   "cell_type": "code",
   "execution_count": 10,
   "id": "5f6cf849",
   "metadata": {},
   "outputs": [],
   "source": [
    "def get_comment_threads(youtube, video_id, nextPageToken):\n",
    "    results = youtube.commentThreads().list(\n",
    "        part=\"snippet,replies\",\n",
    "        maxResults=100,\n",
    "        videoId=video_id,\n",
    "        textFormat=\"plainText\",\n",
    "        pageToken = nextPageToken\n",
    "    ).execute()\n",
    "    return results"
   ]
  },
  {
   "cell_type": "code",
   "execution_count": 11,
   "id": "373f576c",
   "metadata": {},
   "outputs": [],
   "source": [
    "def load_comments(video_response):\n",
    "    \n",
    "    comms = []\n",
    "    for item in video_response['items']:\n",
    "            \n",
    "        # Extracting comments\n",
    "        comment = item['snippet']['topLevelComment']['snippet']['textDisplay']\n",
    "        user_name = item['snippet']['topLevelComment']['snippet']['authorDisplayName']\n",
    "        user_url = item['snippet']['topLevelComment']['snippet']['authorChannelUrl']\n",
    "        user_id = item['snippet']['topLevelComment']['snippet']['authorChannelId']\n",
    "        comms.append({'text': comment, 'user': user_name, 'user_id': user_id, 'user_url': user_url})\n",
    "\n",
    "        # counting number of reply of comment\n",
    "        replycount = item['snippet']['totalReplyCount']\n",
    "\n",
    "        if replycount > 0:\n",
    "            if 'replies' not in item:\n",
    "                continue\n",
    "            for reply in item['replies']['comments']:\n",
    "                comment = reply['snippet']['textDisplay']\n",
    "                user_name = reply['snippet']['authorDisplayName']\n",
    "                user_url = reply['snippet']['authorChannelUrl']\n",
    "                user_id = reply['snippet']['authorChannelId']\n",
    "                comms.append({'text': comment, 'user': user_name, 'user_id': user_id, 'user_url': user_url})\n",
    "    return comms"
   ]
  },
  {
   "cell_type": "code",
   "execution_count": 12,
   "id": "49ca45be",
   "metadata": {},
   "outputs": [],
   "source": [
    "comments = []\n",
    "\n",
    "# Get comments from only top 10 search results\n",
    "for video in videos[0:10]:\n",
    "    \n",
    "    video_id = video['id']\n",
    "    video_response=get_comment_threads(youtube_object, video_id, '')\n",
    "    next_page_token = video_response.get(\"nextPageToken\", None)\n",
    "    comments += load_comments(video_response)\n",
    "\n",
    "    while next_page_token:\n",
    "        video_response=get_comment_threads(youtube_object, video_id, next_page_token)\n",
    "        next_page_token = video_response.get(\"nextPageToken\", None)\n",
    "        comments += load_comments(video_response)"
   ]
  },
  {
   "cell_type": "code",
   "execution_count": 13,
   "id": "b76f8f8a",
   "metadata": {},
   "outputs": [
    {
     "data": {
      "text/plain": [
       "5836"
      ]
     },
     "execution_count": 13,
     "metadata": {},
     "output_type": "execute_result"
    }
   ],
   "source": [
    "len(comments)"
   ]
  },
  {
   "cell_type": "code",
   "execution_count": 14,
   "id": "89bfb52f",
   "metadata": {},
   "outputs": [
    {
     "name": "stdout",
     "output_type": "stream",
     "text": [
      "Ah yes, hinata family\n",
      "Hi\n",
      "I feel so angry\n",
      "Bro... Hinata slap Naruto to cheer him\n",
      "i just noticed that after pain destroyed the leaf and after Naruto beat him why didn't Nagato just use the thing that revives people (forgot the name) instead of rinne rebirth same with after Sasuke got rinnegan why didn't he just revive every one or most people that died in the war with the same thing that revives\n",
      "plot\n",
      "Watch my luffy vs naruto fan animation at https://www.youtube.com/watch?v=JVi4SIppBJw\n",
      "Watch my luffy vs naruto fan animation at https://www.youtube.com/watch?v=JVi4SIppBJw\n",
      "17:50 having Naruto done this just 1 minute earlier, Neji and a bunch of others (probably everyone) would be still standing😅\n",
      "https://youtube.com/shorts/M1-uw9M5jjU?feature=share\n",
      "\n",
      "Ghost of uchiha\n"
     ]
    }
   ],
   "source": [
    "for comment in comments[:10]:\n",
    "    print(comment['text'])"
   ]
  },
  {
   "cell_type": "code",
   "execution_count": null,
   "id": "fe141f88",
   "metadata": {},
   "outputs": [],
   "source": []
  }
 ],
 "metadata": {
  "kernelspec": {
   "display_name": "Python 3",
   "language": "python",
   "name": "python3"
  },
  "language_info": {
   "codemirror_mode": {
    "name": "ipython",
    "version": 3
   },
   "file_extension": ".py",
   "mimetype": "text/x-python",
   "name": "python",
   "nbconvert_exporter": "python",
   "pygments_lexer": "ipython3",
   "version": "3.8.8"
  }
 },
 "nbformat": 4,
 "nbformat_minor": 5
}
