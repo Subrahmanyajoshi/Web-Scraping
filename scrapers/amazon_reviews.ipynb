{
 "cells": [
  {
   "cell_type": "code",
   "execution_count": 15,
   "id": "d4e4ce48",
   "metadata": {},
   "outputs": [],
   "source": [
    "# import module\n",
    "import requests\n",
    "import pandas as pd\n",
    "from bs4 import BeautifulSoup"
   ]
  },
  {
   "cell_type": "code",
   "execution_count": 2,
   "id": "8627e265",
   "metadata": {},
   "outputs": [],
   "source": [
    "HEADERS = {'User-Agent':\n",
    "        'Mozilla/5.0 (Windows NT 10.0; Win64; x64) \\\n",
    "        AppleWebKit/537.36 (KHTML, like Gecko) \\\n",
    "        Chrome/90.0.4430.212 Safari/537.36'}\n",
    "\n",
    "# Cookies need to be added from the webpage. They will be in the 'Network' tab of the 'Inspect' page. \n",
    "# The format is COOKIES = {'key1': 'value1', 'key2': 'value2' ...}\n",
    "COOKIES = {}"
   ]
  },
  {
   "cell_type": "code",
   "execution_count": 3,
   "id": "21b42fcc",
   "metadata": {},
   "outputs": [],
   "source": [
    "user_query = 'boat+earphones'"
   ]
  },
  {
   "cell_type": "code",
   "execution_count": 4,
   "id": "3f37cfc5",
   "metadata": {},
   "outputs": [],
   "source": [
    "# Following function fetches the html data from the sent URL and returns it.\n",
    "\n",
    "def get_data(url:str):\n",
    "    page = requests.get(url, cookies=COOKIES, headers=HEADERS)\n",
    "    return page"
   ]
  },
  {
   "cell_type": "code",
   "execution_count": 5,
   "id": "40f484bf",
   "metadata": {},
   "outputs": [],
   "source": [
    "# Following function fetches asin_number (A unique identification number given to each product in amazon) \n",
    "# of each of the product in the search results\n",
    "\n",
    "def asin_number(soup):\n",
    "    data_asins = []\n",
    "    \n",
    "    for item in soup.find_all(\"div\", {\"data-component-type\": \"s-search-result\"}):\n",
    "        data_asins.append(item['data-asin'])\n",
    "    return data_asins"
   ]
  },
  {
   "cell_type": "code",
   "execution_count": 6,
   "id": "b0d02e88",
   "metadata": {},
   "outputs": [],
   "source": [
    "# At the bottom of the webpage of every product, there will be a link 'all_reviews'. We need to go to this page \n",
    "# to start scarping the reviews. The following function fetches the same link for all of the products in \n",
    "# the search results using the asin_numbers.\n",
    "\n",
    "def fetch_href(soup):\n",
    "    links = []\n",
    "  \n",
    "    for item in soup.findAll(\"a\",{'data-hook':\"see-all-reviews-link-foot\"}):\n",
    "        links.append(item['href'])\n",
    "    \n",
    "    return links[0]"
   ]
  },
  {
   "cell_type": "code",
   "execution_count": 7,
   "id": "689d8e28",
   "metadata": {},
   "outputs": [],
   "source": [
    "# Following page fetches all of the reviews from the all_reviews page. \n",
    "\n",
    "def customer_review(soup):\n",
    "    data_str = \"\"\n",
    "  \n",
    "    for item in soup.find_all(\"span\", class_=\"a-size-base review-text review-text-content\"):\n",
    "        data_str = data_str + item.get_text()\n",
    "  \n",
    "    result = data_str.split(\"\\n\")\n",
    "    return (result)\n",
    "  "
   ]
  },
  {
   "cell_type": "code",
   "execution_count": 8,
   "id": "abb6db6b",
   "metadata": {},
   "outputs": [],
   "source": [
    "# Original URL\n",
    "url = f\"https://www.amazon.in/s?k={user_query}\""
   ]
  },
  {
   "cell_type": "code",
   "execution_count": 9,
   "id": "e3045cdb",
   "metadata": {},
   "outputs": [],
   "source": [
    "response=get_data(url)\n",
    "soup=BeautifulSoup(response.content)"
   ]
  },
  {
   "cell_type": "code",
   "execution_count": 10,
   "id": "6200412a",
   "metadata": {
    "scrolled": false
   },
   "outputs": [],
   "source": [
    "# Fetch all of data asin ids\n",
    "data_asins = asin_number(soup)"
   ]
  },
  {
   "cell_type": "code",
   "execution_count": 11,
   "id": "8f14bf63",
   "metadata": {},
   "outputs": [
    {
     "data": {
      "text/plain": [
       "['B07S9S86BF', 'B097DTJRWZ', 'B071Z8M4KX', 'B07S9S86BF']"
      ]
     },
     "execution_count": 11,
     "metadata": {},
     "output_type": "execute_result"
    }
   ],
   "source": [
    "# A small example to show how data sins look like\n",
    "data_asins[0:4]"
   ]
  },
  {
   "cell_type": "code",
   "execution_count": 12,
   "id": "5dd22544",
   "metadata": {},
   "outputs": [],
   "source": [
    "all_reviews = []\n",
    "review_data = []"
   ]
  },
  {
   "cell_type": "code",
   "execution_count": null,
   "id": "76b51c91",
   "metadata": {
    "scrolled": false
   },
   "outputs": [],
   "source": [
    "# Iterate through data-asin IDs. For this example i'm only going through the first and second product.\n",
    "for data_asin in data_asins[0:2]:\n",
    "    url = f\"https://www.amazon.in/dp/{data_asin}\"\n",
    "    \n",
    "    # Extract all_reviews link for each of the product \n",
    "    response=get_data(url)\n",
    "    soup=BeautifulSoup(response.content)\n",
    "    link = fetch_href(soup)\n",
    "    \n",
    "    # Fetch all of the reviws from the extracted all_reviews link \n",
    "    i = 0\n",
    "    \n",
    "    print(f\"Fetching reviews from the product: {data_asin}\")\n",
    "    while 1:\n",
    "        i += 1\n",
    "        url = f\"https://www.amazon.in{link}&pageNumber={i}\"\n",
    "        response=get_data(url)\n",
    "        soup=BeautifulSoup(response.text)\n",
    "        review_data = customer_review(soup)\n",
    "        review_data = [review for review in review_data if len(review) > 0]\n",
    "        if len(review_data) == 0:\n",
    "            break\n",
    "        \n",
    "        all_reviews += review_data\n",
    "        print(f\"Total reviews scraped: {len(all_reviews)}\")"
   ]
  },
  {
   "cell_type": "code",
   "execution_count": 16,
   "id": "2d4cc1db",
   "metadata": {},
   "outputs": [],
   "source": [
    "reviews_df = pd.DataFrame({'reviews': all_reviews})"
   ]
  },
  {
   "cell_type": "code",
   "execution_count": 17,
   "id": "f91e71f6",
   "metadata": {},
   "outputs": [],
   "source": [
    "reviews_df.to_csv('amazon_reviews.csv', index=False)"
   ]
  },
  {
   "cell_type": "code",
   "execution_count": null,
   "id": "fa1c95db",
   "metadata": {},
   "outputs": [],
   "source": []
  }
 ],
 "metadata": {
  "kernelspec": {
   "display_name": "Python 3",
   "language": "python",
   "name": "python3"
  },
  "language_info": {
   "codemirror_mode": {
    "name": "ipython",
    "version": 3
   },
   "file_extension": ".py",
   "mimetype": "text/x-python",
   "name": "python",
   "nbconvert_exporter": "python",
   "pygments_lexer": "ipython3",
   "version": "3.8.8"
  }
 },
 "nbformat": 4,
 "nbformat_minor": 5
}
