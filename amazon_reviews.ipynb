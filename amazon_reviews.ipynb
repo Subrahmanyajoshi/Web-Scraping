{
 "cells": [
  {
   "cell_type": "code",
   "execution_count": 253,
   "id": "d4e4ce48",
   "metadata": {},
   "outputs": [],
   "source": [
    "# import module\n",
    "import requests\n",
    "from bs4 import BeautifulSoup"
   ]
  },
  {
   "cell_type": "code",
   "execution_count": 1,
   "id": "8627e265",
   "metadata": {},
   "outputs": [],
   "source": [
    "HEADERS = {'User-Agent':\n",
    "        'Mozilla/5.0 (Windows NT 10.0; Win64; x64) \\\n",
    "        AppleWebKit/537.36 (KHTML, like Gecko) \\\n",
    "        Chrome/90.0.4430.212 Safari/537.36'}\n",
    "\n",
    "COOKIES = {}"
   ]
  },
  {
   "cell_type": "code",
   "execution_count": 255,
   "id": "3f37cfc5",
   "metadata": {},
   "outputs": [],
   "source": [
    "def get_data(url:str):\n",
    "    \n",
    "    page = requests.get(url, cookies=COOKIES, headers=HEADERS)\n",
    "    return page"
   ]
  },
  {
   "cell_type": "code",
   "execution_count": 257,
   "id": "9749f09c",
   "metadata": {},
   "outputs": [],
   "source": [
    "def customer_review(soup):\n",
    "    data_str = \"\"\n",
    "  \n",
    "    for item in soup.find_all(\"span\", class_=\"a-size-base review-text review-text-content\"):\n",
    "        data_str = data_str + item.get_text()\n",
    "  \n",
    "    result = data_str.split(\"\\n\")\n",
    "    return (result)\n",
    "  "
   ]
  },
  {
   "cell_type": "code",
   "execution_count": 258,
   "id": "40f484bf",
   "metadata": {},
   "outputs": [],
   "source": [
    "def asin_number(soup):\n",
    "    data_asins = []\n",
    "    \n",
    "    for item in soup.find_all(\"div\", {\"data-component-type\": \"s-search-result\"}):\n",
    "        data_asins.append(item['data-asin'])\n",
    "    return data_asins"
   ]
  },
  {
   "cell_type": "code",
   "execution_count": 259,
   "id": "b0d02e88",
   "metadata": {},
   "outputs": [],
   "source": [
    "def fetch_href(soup):\n",
    "    links = []\n",
    "  \n",
    "    for item in soup.findAll(\"a\",{'data-hook':\"see-all-reviews-link-foot\"}):\n",
    "        links.append(item['href'])\n",
    "    \n",
    "    return links[0]"
   ]
  },
  {
   "cell_type": "code",
   "execution_count": null,
   "id": "689d8e28",
   "metadata": {},
   "outputs": [],
   "source": []
  },
  {
   "cell_type": "code",
   "execution_count": 260,
   "id": "abb6db6b",
   "metadata": {},
   "outputs": [],
   "source": [
    "url = \"https://www.amazon.in/s?k=boat+earphones\""
   ]
  },
  {
   "cell_type": "code",
   "execution_count": 261,
   "id": "e3045cdb",
   "metadata": {},
   "outputs": [],
   "source": [
    "response=get_data(url)\n",
    "soup=BeautifulSoup(response.content)"
   ]
  },
  {
   "cell_type": "code",
   "execution_count": 262,
   "id": "6200412a",
   "metadata": {
    "scrolled": false
   },
   "outputs": [],
   "source": [
    "data_asins = asin_number(soup)"
   ]
  },
  {
   "cell_type": "code",
   "execution_count": 263,
   "id": "5dd22544",
   "metadata": {},
   "outputs": [],
   "source": [
    "all_reviews = []\n",
    "review_data = []"
   ]
  },
  {
   "cell_type": "code",
   "execution_count": 264,
   "id": "5ea8d779",
   "metadata": {},
   "outputs": [
    {
     "data": {
      "text/plain": [
       "['B07S9S86BF',\n",
       " 'B097DTJRWZ',\n",
       " 'B071Z8M4KX',\n",
       " 'B07S9S86BF',\n",
       " 'B07GQD4K6L',\n",
       " 'B01MF8MB65',\n",
       " 'B01M9C51T9',\n",
       " 'B07S8PSW59',\n",
       " 'B07KY3FNQP',\n",
       " 'B07234XXJF',\n",
       " 'B08W9BQ4G8',\n",
       " 'B092KC9YT6',\n",
       " 'B08H9Z3XQW',\n",
       " 'B08MD2CTDB',\n",
       " 'B07C2VJXP4',\n",
       " 'B07KXNS51J',\n",
       " 'B08JQN8DGZ',\n",
       " 'B08GG6GQ5B',\n",
       " 'B08TTXNZ4Y',\n",
       " 'B07Q95M9QZ',\n",
       " 'B09R9PPKTF',\n",
       " 'B09DD7F3CB']"
      ]
     },
     "execution_count": 264,
     "metadata": {},
     "output_type": "execute_result"
    }
   ],
   "source": [
    "data_asins"
   ]
  },
  {
   "cell_type": "code",
   "execution_count": null,
   "id": "76b51c91",
   "metadata": {
    "scrolled": false
   },
   "outputs": [],
   "source": [
    "for data_asin in data_asins:\n",
    "    url = f\"https://www.amazon.in/dp/{data_asin}\"\n",
    "    \n",
    "    response=get_data(url)\n",
    "    soup=BeautifulSoup(response.content)\n",
    "    link = fetch_href(soup)\n",
    "    \n",
    "    i = 0\n",
    "    while 1:\n",
    "        i += 1\n",
    "        url = f\"https://www.amazon.in{link}&pageNumber=1\"\n",
    "        response=get_data(url)\n",
    "        soup=BeautifulSoup(response.text)\n",
    "        review_data = customer_review(soup)\n",
    "        review_data = [review for review in review_data if len(review) > 0]\n",
    "        if len(review_data) == 0:\n",
    "            break\n",
    "        \n",
    "        all_reviews += review_data\n",
    "        print(f\"Total reviews: {len(all_reviews)}\")"
   ]
  },
  {
   "cell_type": "code",
   "execution_count": null,
   "id": "2d4cc1db",
   "metadata": {},
   "outputs": [],
   "source": []
  },
  {
   "cell_type": "code",
   "execution_count": null,
   "id": "f91e71f6",
   "metadata": {},
   "outputs": [],
   "source": []
  },
  {
   "cell_type": "code",
   "execution_count": null,
   "id": "fa1c95db",
   "metadata": {},
   "outputs": [],
   "source": []
  }
 ],
 "metadata": {
  "kernelspec": {
   "display_name": "Python 3",
   "language": "python",
   "name": "python3"
  },
  "language_info": {
   "codemirror_mode": {
    "name": "ipython",
    "version": 3
   },
   "file_extension": ".py",
   "mimetype": "text/x-python",
   "name": "python",
   "nbconvert_exporter": "python",
   "pygments_lexer": "ipython3",
   "version": "3.8.8"
  }
 },
 "nbformat": 4,
 "nbformat_minor": 5
}
