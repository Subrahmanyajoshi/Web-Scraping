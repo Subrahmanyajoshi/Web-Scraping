{
 "cells": [
  {
   "cell_type": "code",
   "execution_count": 2,
   "id": "74b95978",
   "metadata": {},
   "outputs": [],
   "source": [
    "# Reference: https://www.geeksforgeeks.org/how-to-extract-youtube-comments-using-youtube-api-python/"
   ]
  },
  {
   "cell_type": "code",
   "execution_count": 35,
   "id": "704c3033",
   "metadata": {},
   "outputs": [],
   "source": [
    "from googleapiclient.discovery import build"
   ]
  },
  {
   "cell_type": "code",
   "execution_count": 36,
   "id": "d2a5ca84",
   "metadata": {},
   "outputs": [],
   "source": [
    "# Arguments that need to passed to the build function\n",
    "# API Key needs to be created in Google Cloud Console.- https://console.cloud.google.com/apis/api/youtube.googleapis.com/metrics\n",
    "DEVELOPER_KEY = ''\n",
    "YOUTUBE_API_SERVICE_NAME = \"youtube\"\n",
    "YOUTUBE_API_VERSION = \"v3\"\n",
    "   \n",
    "# creating Youtube Resource Object\n",
    "youtube_object = build(YOUTUBE_API_SERVICE_NAME, YOUTUBE_API_VERSION,\n",
    "                                        developerKey = DEVELOPER_KEY)"
   ]
  },
  {
   "cell_type": "code",
   "execution_count": 86,
   "id": "c8e181aa",
   "metadata": {},
   "outputs": [],
   "source": [
    "# Enter search keyword\n",
    "keyword = \"Naruto\""
   ]
  },
  {
   "cell_type": "code",
   "execution_count": 87,
   "id": "6eb0802e",
   "metadata": {},
   "outputs": [],
   "source": [
    "# Search \n",
    "search_keyword = youtube_object.search().list(q = keyword, part = \"id, snippet\",\n",
    "                                               maxResults = 20).execute()\n",
    "results = search_keyword.get(\"items\", [])"
   ]
  },
  {
   "cell_type": "markdown",
   "id": "409a2007",
   "metadata": {},
   "source": [
    "### Extract information about videos, playlists, channels"
   ]
  },
  {
   "cell_type": "code",
   "execution_count": 88,
   "id": "deb1fe89",
   "metadata": {},
   "outputs": [],
   "source": [
    "videos = []\n",
    "playlists = []\n",
    "channels = []\n",
    "\n",
    "for result in results:\n",
    "    # videos\n",
    "    if result['id']['kind'] == \"youtube#video\":\n",
    "        videos.append({'title': result[\"snippet\"][\"title\"],\n",
    "                       'id': result[\"id\"][\"videoId\"],\n",
    "                       'decription': result['snippet']['description'],\n",
    "                       'url': result['snippet']['thumbnails']['default']['url']})\n",
    "\n",
    "    # playlists\n",
    "    elif result['id']['kind'] == \"youtube#playlist\":\n",
    "        playlists.append({'title': result[\"snippet\"][\"title\"],\n",
    "                          'id': result[\"id\"][\"playlistId\"],\n",
    "                          'decription': result['snippet']['description'],\n",
    "                          'url': result['snippet']['thumbnails']['default']['url']})\n",
    "\n",
    "    # channels\n",
    "    elif result['id']['kind'] == \"youtube#channel\":\n",
    "        channels.append({'title': result[\"snippet\"][\"title\"],\n",
    "                         'id': result[\"id\"][\"channelId\"],\n",
    "                         'decription': result['snippet']['description'],\n",
    "                         'url': result['snippet']['thumbnails']['default']['url']})"
   ]
  },
  {
   "cell_type": "code",
   "execution_count": 89,
   "id": "b3ae7186",
   "metadata": {
    "scrolled": true
   },
   "outputs": [
    {
     "name": "stdout",
     "output_type": "stream",
     "text": [
      "Videos: 20\n",
      "Playlists: 0\n",
      "Channels: 0\n"
     ]
    }
   ],
   "source": [
    "print(f\"Videos: {len(videos)}\\nPlaylists: {len(playlists)}\\nChannels: {len(channels)}\")"
   ]
  },
  {
   "cell_type": "markdown",
   "id": "aee1f3db",
   "metadata": {},
   "source": [
    "### Extract Comments and replies from videos"
   ]
  },
  {
   "cell_type": "code",
   "execution_count": 91,
   "id": "49ca45be",
   "metadata": {},
   "outputs": [],
   "source": [
    "comments = []\n",
    "\n",
    "for video in videos[0:1]:\n",
    "    \n",
    "    video_id = video['id']\n",
    "    video_response=youtube_object.commentThreads().list(\n",
    "    part='snippet,replies',\n",
    "    videoId=video_id,\n",
    "    order=\"orderUnspecified\"\n",
    "    ).execute()\n",
    "\n",
    "    while video_response:\n",
    "        # 1000 comments are enough\n",
    "        if len(comments) > 1000:\n",
    "            break\n",
    "                \n",
    "        for item in video_response['items']:\n",
    "            \n",
    "            # Extracting comments\n",
    "            comment = item['snippet']['topLevelComment']['snippet']['textDisplay']\n",
    "            user_name = item['snippet']['topLevelComment']['snippet']['authorDisplayName']\n",
    "            user_url = item['snippet']['topLevelComment']['snippet']['authorChannelUrl']\n",
    "            user_id = item['snippet']['topLevelComment']['snippet']['authorChannelId']\n",
    "            comments.append({'text': comment, 'user': user_name, 'user_id': user_id, 'user_url': user_url})\n",
    "\n",
    "            # counting number of reply of comment\n",
    "            replycount = item['snippet']['totalReplyCount']\n",
    "            \n",
    "            if replycount > 0:\n",
    "                for reply in item['replies']['comments']:\n",
    "                    comment = reply['snippet']['textDisplay']\n",
    "                    user_name = reply['snippet']['authorDisplayName']\n",
    "                    user_url = reply['snippet']['authorChannelUrl']\n",
    "                    user_id = reply['snippet']['authorChannelId']\n",
    "                    comments.append({'text': comment, 'user': user_name, 'user_id': user_id, 'user_url': user_url})\n",
    "\n",
    "        if 'nextPageToken' in video_response:\n",
    "            video_response = youtube_object.commentThreads().list(\n",
    "                    part = 'snippet,replies',\n",
    "                    videoId = video_id,\n",
    "                    order=\"orderUnspecified\"\n",
    "                ).execute()\n",
    "        else:\n",
    "            break                    "
   ]
  },
  {
   "cell_type": "code",
   "execution_count": 92,
   "id": "b21e2f15",
   "metadata": {},
   "outputs": [
    {
     "data": {
      "text/plain": [
       "1008"
      ]
     },
     "execution_count": 92,
     "metadata": {},
     "output_type": "execute_result"
    }
   ],
   "source": [
    "len(comments)"
   ]
  },
  {
   "cell_type": "code",
   "execution_count": 94,
   "id": "89bfb52f",
   "metadata": {},
   "outputs": [
    {
     "name": "stdout",
     "output_type": "stream",
     "text": [
      "I feel so angry\n",
      "Bro... Hinata slap Naruto to cheer him\n",
      "i just noticed that after pain destroyed the leaf and after Naruto beat him why didn&#39;t Nagato just use the thing that revives people (forgot the name) instead of rinne rebirth same with after Sasuke got rinnegan why didn&#39;t he just revive every one or most people that died in the war with the same thing that revives\n",
      "plot\n",
      "Watch my luffy vs naruto fan animation at <a href=\"https://www.youtube.com/watch?v=JVi4SIppBJw\">https://www.youtube.com/watch?v=JVi4SIppBJw</a>\n",
      "Watch my luffy vs naruto fan animation at <a href=\"https://www.youtube.com/watch?v=JVi4SIppBJw\">https://www.youtube.com/watch?v=JVi4SIppBJw</a>\n",
      "<a href=\"https://www.youtube.com/watch?v=O3ioOsqokp4&amp;t=17m50s\">17:50</a> having Naruto done this just 1 minute earlier, Neji and a bunch of others (probably everyone) would be still standing😅\n",
      "<a href=\"https://youtube.com/shorts/M1-uw9M5jjU?feature=share\">https://youtube.com/shorts/M1-uw9M5jjU?feature=share</a><br><br>Ghost of uchiha\n",
      "I was like the f ik thats Hashiramas wood dragon and why is it absorbing <br>Naruto&#39;s chackara\n",
      "what do you mean by real ? You fools .\n"
     ]
    }
   ],
   "source": [
    "for comment in comments[:10]:\n",
    "    print(comment['text'])"
   ]
  },
  {
   "cell_type": "code",
   "execution_count": null,
   "id": "fe141f88",
   "metadata": {},
   "outputs": [],
   "source": []
  }
 ],
 "metadata": {
  "kernelspec": {
   "display_name": "Python 3",
   "language": "python",
   "name": "python3"
  },
  "language_info": {
   "codemirror_mode": {
    "name": "ipython",
    "version": 3
   },
   "file_extension": ".py",
   "mimetype": "text/x-python",
   "name": "python",
   "nbconvert_exporter": "python",
   "pygments_lexer": "ipython3",
   "version": "3.8.8"
  }
 },
 "nbformat": 4,
 "nbformat_minor": 5
}
